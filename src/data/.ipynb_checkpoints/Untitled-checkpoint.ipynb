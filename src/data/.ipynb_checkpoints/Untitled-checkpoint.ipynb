{
 "cells": [
  {
   "cell_type": "code",
   "execution_count": 11,
   "metadata": {
    "ExecuteTime": {
     "end_time": "2020-03-10T23:55:43.795515Z",
     "start_time": "2020-03-10T23:55:43.789900Z"
    }
   },
   "outputs": [],
   "source": [
    "import json\n",
    "\n",
    "with open('housing_price_by_zip_code.json') as json_file:\n",
    "    price_data = json.load(json_file)"
   ]
  },
  {
   "cell_type": "code",
   "execution_count": 12,
   "metadata": {
    "ExecuteTime": {
     "end_time": "2020-03-10T23:55:44.297990Z",
     "start_time": "2020-03-10T23:55:44.254748Z"
    }
   },
   "outputs": [
    {
     "name": "stdout",
     "output_type": "stream",
     "text": [
      "98052\n",
      "98012\n",
      "98103\n",
      "98115\n",
      "98122\n",
      "98133\n",
      "98208\n",
      "98109\n",
      "98034\n",
      "98125\n",
      "98003\n",
      "98391\n",
      "98105\n",
      "98270\n",
      "98004\n",
      "98118\n",
      "98204\n",
      "98387\n",
      "98258\n",
      "98023\n",
      "98033\n",
      "98042\n",
      "98102\n",
      "98092\n",
      "98058\n",
      "98223\n",
      "98036\n",
      "98374\n",
      "98026\n",
      "98087\n",
      "98107\n",
      "98056\n",
      "98121\n",
      "98198\n",
      "98117\n",
      "98032\n",
      "98059\n",
      "98155\n",
      "98006\n",
      "98002\n",
      "98031\n",
      "98203\n",
      "98116\n",
      "98144\n",
      "98201\n",
      "98168\n",
      "98444\n",
      "98290\n",
      "98499\n",
      "98030\n",
      "98119\n",
      "98027\n",
      "98038\n",
      "98466\n",
      "98335\n",
      "98029\n",
      "98498\n",
      "98007\n",
      "98101\n",
      "98021\n",
      "98001\n",
      "98445\n",
      "98404\n",
      "98011\n",
      "98271\n",
      "98373\n",
      "98146\n",
      "98112\n",
      "98037\n",
      "98405\n",
      "98106\n",
      "98040\n",
      "98409\n",
      "98126\n",
      "98072\n",
      "98375\n",
      "98338\n",
      "98372\n",
      "98371\n",
      "98272\n",
      "98188\n",
      "98074\n",
      "98008\n",
      "98406\n",
      "98199\n",
      "98292\n",
      "98055\n",
      "98407\n",
      "98166\n",
      "98028\n",
      "98104\n",
      "98178\n",
      "98275\n",
      "98022\n",
      "98020\n",
      "98296\n",
      "98043\n",
      "98005\n",
      "98108\n",
      "98075\n",
      "98053\n",
      "98177\n",
      "98422\n",
      "98136\n",
      "98408\n",
      "98332\n",
      "98057\n",
      "98467\n",
      "98045\n",
      "98321\n",
      "98065\n",
      "98390\n",
      "98360\n",
      "98070\n",
      "98019\n",
      "98148\n",
      "98077\n",
      "98354\n",
      "98446\n",
      "98424\n",
      "98403\n",
      "98252\n",
      "98328\n",
      "98402\n",
      "98418\n",
      "98327\n",
      "98580\n",
      "98329\n",
      "98465\n",
      "98388\n",
      "98014\n",
      "98294\n",
      "98047\n",
      "98010\n",
      "98349\n",
      "98251\n",
      "98443\n",
      "98024\n",
      "98439\n",
      "98333\n",
      "98051\n",
      "98039\n",
      "98241\n",
      "98394\n",
      "98303\n",
      "98558\n",
      "98385\n",
      "98304\n",
      "98351\n",
      "98396\n",
      "98050\n",
      "98344\n",
      "98323\n",
      "98256\n",
      "98134\n",
      "98288\n",
      "98330\n",
      "98164\n",
      "98224\n",
      "98421\n"
     ]
    }
   ],
   "source": [
    "for zipcode in price_data:\n",
    "    print(zipcode)"
   ]
  },
  {
   "cell_type": "code",
   "execution_count": 14,
   "metadata": {
    "ExecuteTime": {
     "end_time": "2020-03-10T23:55:58.888751Z",
     "start_time": "2020-03-10T23:55:58.883688Z"
    }
   },
   "outputs": [
    {
     "data": {
      "text/plain": [
       "160"
      ]
     },
     "execution_count": 14,
     "metadata": {},
     "output_type": "execute_result"
    }
   ],
   "source": [
    "price_data\n"
   ]
  },
  {
   "cell_type": "code",
   "execution_count": null,
   "metadata": {},
   "outputs": [],
   "source": []
  }
 ],
 "metadata": {
  "kernelspec": {
   "display_name": "python3.7.1",
   "language": "python",
   "name": "python3.7.1"
  },
  "language_info": {
   "codemirror_mode": {
    "name": "ipython",
    "version": 3
   },
   "file_extension": ".py",
   "mimetype": "text/x-python",
   "name": "python",
   "nbconvert_exporter": "python",
   "pygments_lexer": "ipython3",
   "version": "3.7.1"
  },
  "toc": {
   "base_numbering": 1,
   "nav_menu": {},
   "number_sections": true,
   "sideBar": true,
   "skip_h1_title": false,
   "title_cell": "Table of Contents",
   "title_sidebar": "Contents",
   "toc_cell": false,
   "toc_position": {},
   "toc_section_display": true,
   "toc_window_display": false
  },
  "varInspector": {
   "cols": {
    "lenName": 16,
    "lenType": 16,
    "lenVar": 40
   },
   "kernels_config": {
    "python": {
     "delete_cmd_postfix": "",
     "delete_cmd_prefix": "del ",
     "library": "var_list.py",
     "varRefreshCmd": "print(var_dic_list())"
    },
    "r": {
     "delete_cmd_postfix": ") ",
     "delete_cmd_prefix": "rm(",
     "library": "var_list.r",
     "varRefreshCmd": "cat(var_dic_list()) "
    }
   },
   "types_to_exclude": [
    "module",
    "function",
    "builtin_function_or_method",
    "instance",
    "_Feature"
   ],
   "window_display": false
  }
 },
 "nbformat": 4,
 "nbformat_minor": 2
}
